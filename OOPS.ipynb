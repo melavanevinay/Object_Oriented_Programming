{
 "cells": [
  {
   "cell_type": "markdown",
   "id": "d990f39d-363f-47c8-9a4f-317a70ee5875",
   "metadata": {},
   "source": [
    "# OOP's (Object Oriented Programming):"
   ]
  },
  {
   "cell_type": "markdown",
   "id": "e77e1700-de7b-4941-bdef-144c2006e075",
   "metadata": {},
   "source": [
    "## Python is object oriented programming language.\n",
    "## An object that can be defined as the data field that has unique attributes and behaviour.\n",
    "## Class is like object constructor, or we can say blueprint for creating the objects."
   ]
  },
  {
   "cell_type": "markdown",
   "id": "59b1ba49-6968-4e63-965e-9328f8c186cd",
   "metadata": {},
   "source": [
    "## The main concept of the OOP's is to bind the data and functions than work on together as single unit so the no part of code can access this data."
   ]
  },
  {
   "cell_type": "markdown",
   "id": "1b3e4154-a972-4acd-a016-7effbee5ad11",
   "metadata": {},
   "source": [
    "## Generally to create the object, \"class\" keyword is used. which is followed by the name of class we do want to create."
   ]
  },
  {
   "cell_type": "code",
   "execution_count": 1,
   "id": "d990cbc8-4eb1-496c-8085-723fba8ec32c",
   "metadata": {},
   "outputs": [],
   "source": [
    "class vinay:\n",
    "    x=5"
   ]
  },
  {
   "cell_type": "markdown",
   "id": "b6a957ae-7eb0-488b-8297-51657cfedfa9",
   "metadata": {},
   "source": [
    "## Now by using class name we can create object as below."
   ]
  },
  {
   "cell_type": "code",
   "execution_count": 2,
   "id": "ae2e77b2-8382-4ab5-8878-246906673c9e",
   "metadata": {},
   "outputs": [],
   "source": [
    "p1=vinay()"
   ]
  },
  {
   "cell_type": "code",
   "execution_count": 3,
   "id": "900bc79c-ed9a-49f9-9522-c5ccf7468585",
   "metadata": {},
   "outputs": [
    {
     "name": "stdout",
     "output_type": "stream",
     "text": [
      "5\n"
     ]
    }
   ],
   "source": [
    "print(p1.x)"
   ]
  },
  {
   "cell_type": "markdown",
   "id": "b644f6b7-505d-4975-b393-3dbf5b35e008",
   "metadata": {},
   "source": [
    "## The main concepts of OOP's are :\n",
    "## 1. class.\n",
    "## 2. object.\n",
    "## 3. polymorphism\n",
    "## 4. inheritance.\n",
    "## 5. Encapsulatiom \n",
    "## 6. Data abstraction."
   ]
  },
  {
   "cell_type": "markdown",
   "id": "b2a4f6d8-00dc-4bca-a84a-28454dd6d207",
   "metadata": {},
   "source": [
    "## 1. Class :"
   ]
  },
  {
   "cell_type": "markdown",
   "id": "866fca8f-79b1-41d7-8be1-904a4f1c5592",
   "metadata": {},
   "source": [
    "## Class is collection of objects. Class contains blueprint or prototype from which objects are created. It is a logical entity that contains some attributes(a quality of somebody/something; a feature.) and methods."
   ]
  },
  {
   "cell_type": "markdown",
   "id": "75cd655e-a783-4af2-aba2-d81e16028594",
   "metadata": {},
   "source": [
    "### 1. Class is created by using keyword 'class'.\n",
    "### 2. Attributes are the variables that belog to class.\n",
    "### 3. Attributes are accessed by using \".\" operator."
   ]
  },
  {
   "cell_type": "markdown",
   "id": "8d064bbb-a6ec-4fe4-a5bf-2617d19e0b00",
   "metadata": {},
   "source": [
    "## Example :\n",
    "### below created is empty class."
   ]
  },
  {
   "cell_type": "code",
   "execution_count": 2,
   "id": "bbf7757d-a1ef-4cb0-b5fe-cf20affd24d1",
   "metadata": {},
   "outputs": [],
   "source": [
    "class Vinay:\n",
    "    pass"
   ]
  },
  {
   "cell_type": "markdown",
   "id": "c1f64020-d414-44a6-9cf9-71dc7e4a923b",
   "metadata": {},
   "source": [
    "## 2 Object :"
   ]
  },
  {
   "cell_type": "markdown",
   "id": "964e72ad-091a-4e13-9185-640007ab48d6",
   "metadata": {},
   "source": [
    "## Object is an entity that has state and behaviour.\n",
    "## It can be real world object such as chair, pen, table etc.,it can be integer, floating point number, It can be list , arrays, dictonery.\n",
    "## An object consists of :\n",
    "### 1. State :\n",
    "###      It is represented by the attributes of object. It also reflects the propertirs of an object.\n",
    "### 2. Behaviour :\n",
    "###      Behaviour is represented by methods of an object. It also represents the behaviour of abject with other objects.\n",
    "### 3. Identity : \n",
    "###      It gives unique name to the object."
   ]
  },
  {
   "cell_type": "code",
   "execution_count": 3,
   "id": "15d85707-d3e9-4341-a57d-f7e751813b82",
   "metadata": {},
   "outputs": [],
   "source": [
    "class Vinay:\n",
    "    obj=Vinay()"
   ]
  },
  {
   "cell_type": "markdown",
   "id": "7a3361eb-62cd-4b2b-82d2-4d7e8061a79c",
   "metadata": {},
   "source": [
    "### Here above class of \"vinay\" is created and object \"obj\" of class \"Vinay\" is created."
   ]
  },
  {
   "cell_type": "markdown",
   "id": "d55d8749-c925-4277-be2c-9f0d52013e37",
   "metadata": {},
   "source": [
    "## Self : \n",
    "## Self parameter is referance to current instance of the class, and it is used to access the variable that belongs to the class.\n",
    "## It must provided as extra parameter inside the method defination.As it object forr which the method is called."
   ]
  },
  {
   "cell_type": "code",
   "execution_count": 13,
   "id": "2233b1db-eec4-4413-87cf-8ccd699cc3b5",
   "metadata": {},
   "outputs": [],
   "source": [
    "class employee:\n",
    "    name = \"Vinay\"\n",
    "    occupation = \"Data Scientist\"\n",
    "    package = \"20 LPA\"\n",
    "    \n",
    "    def info(self):\n",
    "        print(f\"{self.name} is a {self.occupation}. His package is {self.package}\")"
   ]
  },
  {
   "cell_type": "code",
   "execution_count": 14,
   "id": "c456e1bb-200e-49ca-b43b-cb3adcd15478",
   "metadata": {},
   "outputs": [],
   "source": [
    "employee_1 = employee()\n",
    "employee_2 = employee()\n",
    "employee_3 = employee()\n",
    "\n",
    "employee_1.name = \"Shubham\"\n",
    "employee_1.occupation = \"Bank Manager\"\n",
    "employee_1.package = \"50 LPA\"\n",
    "\n",
    "employee_2.name = \"Nilam\"\n",
    "employee_2.occupation = \"PO\"\n",
    "employee_2.package = \"15 LPA\""
   ]
  },
  {
   "cell_type": "code",
   "execution_count": 15,
   "id": "18e6a67e-66b9-4d21-87a9-03fd3bb782dd",
   "metadata": {},
   "outputs": [
    {
     "name": "stdout",
     "output_type": "stream",
     "text": [
      "Shubham is a Bank Manager. His package is 50 LPA\n"
     ]
    }
   ],
   "source": [
    "employee_1.info()"
   ]
  },
  {
   "cell_type": "code",
   "execution_count": 16,
   "id": "30695ee3-fd2e-4477-ab19-ba81dedf5a36",
   "metadata": {},
   "outputs": [
    {
     "name": "stdout",
     "output_type": "stream",
     "text": [
      "Vinay is a Data Scientist. His package is 20 LPA\n"
     ]
    }
   ],
   "source": [
    "employee_3.info()"
   ]
  },
  {
   "cell_type": "markdown",
   "id": "37bd19ff-0a75-4270-a8e1-e785f156ad33",
   "metadata": {},
   "source": [
    "## Constructor :"
   ]
  },
  {
   "cell_type": "markdown",
   "id": "fc5855a4-9881-4897-a731-c9ddcf3cb2a1",
   "metadata": {},
   "source": [
    "## Constructor is special method in class which is used to create and initialize an object of class.\n",
    "## A constructor is unique function that gets called automatically when object of class is created.\n",
    "## The main purpose of constructor is to initialize or assign the values to the data member of that class."
   ]
  },
  {
   "cell_type": "markdown",
   "id": "91755c43-44d5-4ff8-9e51-16398512ea1b",
   "metadata": {},
   "source": [
    "## Syntax:\n",
    "\n",
    "### def __init__(self,parameter_1,paramater_2)\n",
    "###     self.parameter_1 = xyz\n",
    "###     self.parameter_2 = abc"
   ]
  },
  {
   "cell_type": "markdown",
   "id": "195206f7-58ca-461d-ad6a-b23d3dc60fcc",
   "metadata": {},
   "source": [
    "## Types of constructor : \n",
    "## 1. Default Constructor.\n",
    "## 2. Parameterised constructor."
   ]
  },
  {
   "cell_type": "markdown",
   "id": "adcfe667-0861-4ecf-9a2e-905bd5d2f3a0",
   "metadata": {},
   "source": [
    "## Default Constructor : "
   ]
  },
  {
   "cell_type": "code",
   "execution_count": null,
   "id": "5ec3003b-b1a2-404c-ba6c-72f0196799b3",
   "metadata": {},
   "outputs": [],
   "source": []
  }
 ],
 "metadata": {
  "kernelspec": {
   "display_name": "Python 3 (ipykernel)",
   "language": "python",
   "name": "python3"
  },
  "language_info": {
   "codemirror_mode": {
    "name": "ipython",
    "version": 3
   },
   "file_extension": ".py",
   "mimetype": "text/x-python",
   "name": "python",
   "nbconvert_exporter": "python",
   "pygments_lexer": "ipython3",
   "version": "3.10.8"
  }
 },
 "nbformat": 4,
 "nbformat_minor": 5
}
